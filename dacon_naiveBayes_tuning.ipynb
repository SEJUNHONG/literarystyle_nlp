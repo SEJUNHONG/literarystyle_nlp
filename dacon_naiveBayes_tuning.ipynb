{
  "nbformat": 4,
  "nbformat_minor": 0,
  "metadata": {
    "colab": {
      "name": "dacon_naiveBayes_tuning.ipynb",
      "provenance": [],
      "mount_file_id": "1m6aSAR3Ro758BhIOv-iOnrfq4Rq1b-5W",
      "authorship_tag": "ABX9TyPtENQNVmxPV3FnWuRMLVCP"
    },
    "kernelspec": {
      "name": "python3",
      "display_name": "Python 3"
    },
    "accelerator": "GPU"
  },
  "cells": [
    {
      "cell_type": "code",
      "metadata": {
        "id": "IFv9eX_9H_vj"
      },
      "source": [
        "import pandas as pd\n",
        "import warnings\n",
        "warnings.filterwarnings(action = 'ignore')\n",
        "import numpy as np\n",
        "import tensorflow as tf\n",
        "from tensorflow.keras.preprocessing.sequence import pad_sequences\n",
        "from tensorflow.keras.preprocessing.text import Tokenizer\n",
        "import re"
      ],
      "execution_count": 98,
      "outputs": []
    },
    {
      "cell_type": "code",
      "metadata": {
        "id": "DBxYoFIWIFrw"
      },
      "source": [
        "# 파일 불러오기\n",
        "train = pd.read_csv('/content/drive/My Drive/Semi-project_01/open/train.csv', encoding = 'utf-8')\n",
        "test = pd.read_csv('/content/drive/My Drive/Semi-project_01/open/test_x.csv', encoding = 'utf-8')\n",
        "sample_submission = pd.read_csv('/content/drive/My Drive/Semi-project_01/open/sample_submission.csv', encoding = 'utf-8')"
      ],
      "execution_count": 99,
      "outputs": []
    },
    {
      "cell_type": "code",
      "metadata": {
        "id": "SgFtufpdILf8"
      },
      "source": [
        "# 부호를 제거해주는 함수\n",
        "def alpha_num(text) :\n",
        "  return re.sub(r'[^A-Za-z0-9 ]', ' ', text)\n",
        "\n",
        "train['text'] = train['text'].apply(alpha_num)"
      ],
      "execution_count": 100,
      "outputs": []
    },
    {
      "cell_type": "code",
      "metadata": {
        "id": "OIWanOzhIN_A",
        "outputId": "522d1e28-c22d-4752-e942-1a73f3114833",
        "colab": {
          "base_uri": "https://localhost:8080/",
          "height": 415
        }
      },
      "source": [
        "# 이상치 제거\n",
        "train = train[train.text != \"     \"]\n",
        "train = train.reset_index(drop=True)\n",
        "train"
      ],
      "execution_count": 101,
      "outputs": [
        {
          "output_type": "execute_result",
          "data": {
            "text/html": [
              "<div>\n",
              "<style scoped>\n",
              "    .dataframe tbody tr th:only-of-type {\n",
              "        vertical-align: middle;\n",
              "    }\n",
              "\n",
              "    .dataframe tbody tr th {\n",
              "        vertical-align: top;\n",
              "    }\n",
              "\n",
              "    .dataframe thead th {\n",
              "        text-align: right;\n",
              "    }\n",
              "</style>\n",
              "<table border=\"1\" class=\"dataframe\">\n",
              "  <thead>\n",
              "    <tr style=\"text-align: right;\">\n",
              "      <th></th>\n",
              "      <th>index</th>\n",
              "      <th>text</th>\n",
              "      <th>author</th>\n",
              "    </tr>\n",
              "  </thead>\n",
              "  <tbody>\n",
              "    <tr>\n",
              "      <th>0</th>\n",
              "      <td>0</td>\n",
              "      <td>He was almost choking  There was so much  so m...</td>\n",
              "      <td>3</td>\n",
              "    </tr>\n",
              "    <tr>\n",
              "      <th>1</th>\n",
              "      <td>1</td>\n",
              "      <td>Your sister asked for it  I suppose</td>\n",
              "      <td>2</td>\n",
              "    </tr>\n",
              "    <tr>\n",
              "      <th>2</th>\n",
              "      <td>2</td>\n",
              "      <td>She was engaged one day as she walked  in per...</td>\n",
              "      <td>1</td>\n",
              "    </tr>\n",
              "    <tr>\n",
              "      <th>3</th>\n",
              "      <td>3</td>\n",
              "      <td>The captain was in the porch  keeping himself ...</td>\n",
              "      <td>4</td>\n",
              "    </tr>\n",
              "    <tr>\n",
              "      <th>4</th>\n",
              "      <td>4</td>\n",
              "      <td>Have mercy  gentlemen   odin flung up his han...</td>\n",
              "      <td>3</td>\n",
              "    </tr>\n",
              "    <tr>\n",
              "      <th>...</th>\n",
              "      <td>...</td>\n",
              "      <td>...</td>\n",
              "      <td>...</td>\n",
              "    </tr>\n",
              "    <tr>\n",
              "      <th>54874</th>\n",
              "      <td>54874</td>\n",
              "      <td>Is that you  Mr  Smith   odin whispered   I h...</td>\n",
              "      <td>2</td>\n",
              "    </tr>\n",
              "    <tr>\n",
              "      <th>54875</th>\n",
              "      <td>54875</td>\n",
              "      <td>I told my plan to the captain  and between us ...</td>\n",
              "      <td>4</td>\n",
              "    </tr>\n",
              "    <tr>\n",
              "      <th>54876</th>\n",
              "      <td>54876</td>\n",
              "      <td>Your sincere well wisher  friend  and sister...</td>\n",
              "      <td>1</td>\n",
              "    </tr>\n",
              "    <tr>\n",
              "      <th>54877</th>\n",
              "      <td>54877</td>\n",
              "      <td>Then you wanted me to lend you money</td>\n",
              "      <td>3</td>\n",
              "    </tr>\n",
              "    <tr>\n",
              "      <th>54878</th>\n",
              "      <td>54878</td>\n",
              "      <td>It certainly had not occurred to me before  bu...</td>\n",
              "      <td>0</td>\n",
              "    </tr>\n",
              "  </tbody>\n",
              "</table>\n",
              "<p>54879 rows × 3 columns</p>\n",
              "</div>"
            ],
            "text/plain": [
              "       index                                               text  author\n",
              "0          0  He was almost choking  There was so much  so m...       3\n",
              "1          1              Your sister asked for it  I suppose         2\n",
              "2          2   She was engaged one day as she walked  in per...       1\n",
              "3          3  The captain was in the porch  keeping himself ...       4\n",
              "4          4   Have mercy  gentlemen   odin flung up his han...       3\n",
              "...      ...                                                ...     ...\n",
              "54874  54874   Is that you  Mr  Smith   odin whispered   I h...       2\n",
              "54875  54875  I told my plan to the captain  and between us ...       4\n",
              "54876  54876    Your sincere well wisher  friend  and sister...       1\n",
              "54877  54877             Then you wanted me to lend you money         3\n",
              "54878  54878  It certainly had not occurred to me before  bu...       0\n",
              "\n",
              "[54879 rows x 3 columns]"
            ]
          },
          "metadata": {
            "tags": []
          },
          "execution_count": 101
        }
      ]
    },
    {
      "cell_type": "code",
      "metadata": {
        "id": "b64iEUK7IPs5",
        "outputId": "4f67799e-8b17-4925-aeaf-2edb30b37573",
        "colab": {
          "base_uri": "https://localhost:8080/"
        }
      },
      "source": [
        "import nltk\n",
        "nltk.download('stopwords')\n",
        "stopwords=nltk.corpus.stopwords.words('english')\n",
        "stopwords.append('odin')\n",
        "stopwords.extend(['could', 'ought', 'would'])"
      ],
      "execution_count": 102,
      "outputs": [
        {
          "output_type": "stream",
          "text": [
            "[nltk_data] Downloading package stopwords to /root/nltk_data...\n",
            "[nltk_data]   Package stopwords is already up-to-date!\n"
          ],
          "name": "stdout"
        }
      ]
    },
    {
      "cell_type": "code",
      "metadata": {
        "id": "Nx0grufSIRVE"
      },
      "source": [
        "# 불용어 제거해주는 함수\n",
        "def remove_stopwords(text):\n",
        "    final_text = []\n",
        "    for i in text.split():\n",
        "        if i.strip().lower() not in stopwords:\n",
        "            final_text.append(i.strip())\n",
        "    return \" \".join(final_text)\n",
        "\n",
        "# 불용어\n",
        "# stopwords = [ \"a\", \"about\", \"above\", \"after\", \"again\", \"against\", \"all\", \"am\", \"an\", \"and\", \"any\", \"are\", \"as\", \n",
        "#              \"at\", \"be\", \"because\", \"been\", \"before\", \"being\", \"below\", \"between\", \"both\", \"but\", \"by\", \"could\", \n",
        "#              \"did\", \"do\", \"does\", \"doing\", \"down\", \"during\", \"each\", \"few\", \"for\", \"from\", \"further\", \"had\", \"has\", \n",
        "#              \"have\", \"having\", \"he\", \"he'd\", \"he'll\", \"he's\", \"her\", \"here\", \"here's\", \"hers\", \"herself\", \"him\", \"himself\", \n",
        "#              \"his\", \"how\", \"how's\", \"i\", \"i'd\", \"i'll\", \"i'm\", \"i've\", \"if\", \"in\", \"into\", \"is\", \"it\", \"it's\", \"its\", \"itself\", \n",
        "#              \"let's\", \"me\", \"more\", \"most\", \"my\", \"myself\", \"nor\", \"of\", \"on\", \"once\", \"only\", \"or\", \"other\", \"ought\", \"our\", \"ours\", \n",
        "#              \"ourselves\", \"out\", \"over\", \"own\", \"same\", \"she\", \"she'd\", \"she'll\", \"she's\", \"should\", \"so\", \"some\", \"such\", \"than\", \"that\", \n",
        "#              \"that's\", \"the\", \"their\", \"theirs\", \"them\", \"themselves\", \"then\", \"there\", \"there's\", \"these\", \"they\", \"they'd\", \"they'll\", \n",
        "#              \"they're\", \"they've\", \"this\", \"those\", \"through\", \"to\", \"too\", \"under\", \"until\", \"up\", \"very\", \"was\", \"we\", \"we'd\", \"we'll\", \n",
        "#              \"we're\", \"we've\", \"were\", \"what\", \"what's\", \"when\", \"when's\", \"where\", \"where's\", \"which\", \"while\", \"who\", \"who's\", \"whom\", \n",
        "#              \"why\", \"why's\", \"with\", \"would\", \"you\", \"you'd\", \"you'll\", \"you're\", \"you've\", \"your\", \"yours\", \"yourself\", \"yourselves\" ]"
      ],
      "execution_count": 103,
      "outputs": []
    },
    {
      "cell_type": "code",
      "metadata": {
        "id": "RRTihXKTIS9y"
      },
      "source": [
        "#전처리 적용\n",
        "train['text'] = train['text'].str.lower()\n",
        "test['text'] = test['text'].str.lower()\n",
        "train['text'] = train['text'].apply(alpha_num).apply(remove_stopwords)\n",
        "test['text'] = test['text'].apply(alpha_num).apply(remove_stopwords)"
      ],
      "execution_count": 104,
      "outputs": []
    },
    {
      "cell_type": "code",
      "metadata": {
        "id": "YvVhugxWIUw7"
      },
      "source": [
        "# logloss 함수\n",
        "def multiclass_logloss(actual, predicted, eps=1e-15):\n",
        "\n",
        "    if len(actual.shape) == 1:\n",
        "        actual2 = np.zeros((actual.shape[0], predicted.shape[1]))\n",
        "        for i, val in enumerate(actual):\n",
        "            actual2[i, val] = 1\n",
        "        actual = actual2\n",
        "\n",
        "    clip = np.clip(predicted, eps, 1 - eps)\n",
        "    rows = actual.shape[0]\n",
        "    vsota = np.sum(actual * np.log(clip))\n",
        "    return -1.0 / rows * vsota"
      ],
      "execution_count": 105,
      "outputs": []
    },
    {
      "cell_type": "code",
      "metadata": {
        "id": "GgtFToHfIYSp"
      },
      "source": [
        "# from sklearn.feature_extraction.text import CountVectorizer\n",
        "\n",
        "# vec=CountVectorizer(analyzer='word', token_pattern=r'\\w{1,}', ngram_range=(1,3),\n",
        "#                     stop_words='english')\n",
        "\n",
        "# vec.fit(list(train['text'])+list(test['text']))\n",
        "\n",
        "# xtrain_ctv=vec.transform(train['text'])\n",
        "# xtest_ctv=vec.transform(test['text'])"
      ],
      "execution_count": 106,
      "outputs": []
    },
    {
      "cell_type": "code",
      "metadata": {
        "id": "h0yjVebVIadc"
      },
      "source": [
        "from sklearn.naive_bayes import MultinomialNB\n",
        "from sklearn.model_selection import GridSearchCV\n",
        "from sklearn.model_selection import train_test_split\n",
        "from sklearn.metrics import make_scorer\n",
        "from sklearn.decomposition import TruncatedSVD\n",
        "from sklearn.preprocessing import StandardScaler\n",
        "from sklearn.pipeline import Pipeline\n",
        "from sklearn.feature_extraction.text import TfidfVectorizer"
      ],
      "execution_count": 107,
      "outputs": []
    },
    {
      "cell_type": "code",
      "metadata": {
        "id": "cK2UBgKpInIv"
      },
      "source": [
        "scorer=make_scorer(multiclass_logloss, greater_is_better=False, needs_proba=True)"
      ],
      "execution_count": 108,
      "outputs": []
    },
    {
      "cell_type": "code",
      "metadata": {
        "id": "vjtFUvdLXudL",
        "outputId": "3fe3aa27-8b02-48e2-e859-c4ef8a8cd82d",
        "colab": {
          "base_uri": "https://localhost:8080/"
        }
      },
      "source": [
        "print(\"train['text'] max 길이: \",max(len(i) for i in train['text']))\n",
        "print(\"test['text'] max 길이: \",max(len(i) for i in test['text']))\n",
        "\n",
        "print(\"train['text'] min 길이: \",min(len(i) for i in train['text']))\n",
        "print(\"test['text'] min 길이: \",min(len(i) for i in test['text']))"
      ],
      "execution_count": 109,
      "outputs": [
        {
          "output_type": "stream",
          "text": [
            "train['text'] max 길이:  1325\n",
            "test['text'] max 길이:  1380\n",
            "train['text'] min 길이:  0\n",
            "test['text'] min 길이:  33\n"
          ],
          "name": "stdout"
        }
      ]
    },
    {
      "cell_type": "code",
      "metadata": {
        "id": "k0w-CUz3XMTu"
      },
      "source": [
        "# TF-IDF 모델 생성\n",
        "tfv=TfidfVectorizer(min_df=3, smooth_idf=1, sublinear_tf=1, use_idf=1)\n",
        "tfv.fit(list(train['text'])+list(test['text']))\n",
        "xtrain_tfv=tfv.transform(train['text'])\n",
        "xtest_tfv=tfv.transform(test['text'])"
      ],
      "execution_count": 110,
      "outputs": []
    },
    {
      "cell_type": "code",
      "metadata": {
        "id": "mDfmnPzkZgzw"
      },
      "source": [
        "y=train['author']"
      ],
      "execution_count": 111,
      "outputs": []
    },
    {
      "cell_type": "code",
      "metadata": {
        "id": "03MBvLuvIqyC"
      },
      "source": [
        "X_train, X_test, y_train, y_test = train_test_split(xtrain_tfv, y, \n",
        "                                                    test_size=0.3, random_state=2020)"
      ],
      "execution_count": 112,
      "outputs": []
    },
    {
      "cell_type": "code",
      "metadata": {
        "id": "gINnLmEkYe4L",
        "outputId": "01be8ab1-2a13-41f1-ac3d-d1e311a3cae1",
        "colab": {
          "base_uri": "https://localhost:8080/"
        }
      },
      "source": [
        "model=MultinomialNB()\n",
        "model.fit(xtrain_tfv, y)\n",
        "predictions=model.predict_proba(X_test)\n",
        "\n",
        "print('TF-IDF, logloss: %0.3f' % multiclass_logloss(y_test, predictions))"
      ],
      "execution_count": 113,
      "outputs": [
        {
          "output_type": "stream",
          "text": [
            "TF-IDF, logloss: 0.802\n"
          ],
          "name": "stdout"
        }
      ]
    },
    {
      "cell_type": "code",
      "metadata": {
        "id": "kI_LCECqaOn7",
        "outputId": "72bff4c6-e9a0-4872-aaac-9accdbdacc43",
        "colab": {
          "base_uri": "https://localhost:8080/"
        }
      },
      "source": [
        "nb_model = MultinomialNB()\n",
        "\n",
        "# Create the pipeline \n",
        "clf = Pipeline([('nb', nb_model)])\n",
        "\n",
        "# parameter grid\n",
        "param_grid = {'nb__alpha': [0.001, 0.01, 0.1, 1, 10, 100]}\n",
        "\n",
        "# Initialize Grid Search Model\n",
        "model = GridSearchCV(estimator=clf, param_grid=param_grid, scoring=scorer,\n",
        "                                 verbose=10, n_jobs=-1, iid=True, refit=True, cv=2)\n",
        "\n",
        "# Fit Grid Search Model\n",
        "model.fit(xtrain_tfv, y)\n",
        "print(\"Best score: %0.3f\" % model.best_score_)\n",
        "print(\"Best parameters set:\")\n",
        "best_parameters = model.best_estimator_.get_params()\n",
        "for param_name in sorted(param_grid.keys()):\n",
        "    print(\"\\t%s: %r\" % (param_name, best_parameters[param_name]))"
      ],
      "execution_count": 114,
      "outputs": [
        {
          "output_type": "stream",
          "text": [
            "Fitting 2 folds for each of 6 candidates, totalling 12 fits\n"
          ],
          "name": "stdout"
        },
        {
          "output_type": "stream",
          "text": [
            "[Parallel(n_jobs=-1)]: Using backend LokyBackend with 2 concurrent workers.\n",
            "[Parallel(n_jobs=-1)]: Done   1 tasks      | elapsed:    1.0s\n",
            "[Parallel(n_jobs=-1)]: Done   4 tasks      | elapsed:    1.2s\n"
          ],
          "name": "stderr"
        },
        {
          "output_type": "stream",
          "text": [
            "Best score: -0.782\n",
            "Best parameters set:\n",
            "\tnb__alpha: 0.01\n"
          ],
          "name": "stdout"
        },
        {
          "output_type": "stream",
          "text": [
            "[Parallel(n_jobs=-1)]: Done   9 tasks      | elapsed:    1.4s\n",
            "[Parallel(n_jobs=-1)]: Done  12 out of  12 | elapsed:    1.4s finished\n"
          ],
          "name": "stderr"
        }
      ]
    },
    {
      "cell_type": "code",
      "metadata": {
        "id": "db_2XKClaxe4",
        "outputId": "be93e4fa-3559-420e-c130-8d26ac2fd5c0",
        "colab": {
          "base_uri": "https://localhost:8080/"
        }
      },
      "source": [
        "model=MultinomialNB(alpha=0.01)\n",
        "model.fit(xtrain_tfv, y)\n",
        "predictions=model.predict_proba(X_test)\n",
        "\n",
        "print('TF-IDF & gridsearch, logloss: %0.3f' % multiclass_logloss(y_test, predictions))"
      ],
      "execution_count": 115,
      "outputs": [
        {
          "output_type": "stream",
          "text": [
            "TF-IDF & gridsearch, logloss: 0.526\n"
          ],
          "name": "stdout"
        }
      ]
    },
    {
      "cell_type": "code",
      "metadata": {
        "id": "XJM1ElAPJkrO"
      },
      "source": [
        "pred=model.predict_proba(xtest_tfv)"
      ],
      "execution_count": 116,
      "outputs": []
    },
    {
      "cell_type": "code",
      "metadata": {
        "id": "o18Oif83barM",
        "outputId": "a4110273-411b-41c5-c67a-2fb6eaf30369",
        "colab": {
          "base_uri": "https://localhost:8080/"
        }
      },
      "source": [
        "pred"
      ],
      "execution_count": 117,
      "outputs": [
        {
          "output_type": "execute_result",
          "data": {
            "text/plain": [
              "array([[1.75074488e-02, 2.34128998e-01, 1.74210783e-01, 5.67755703e-01,\n",
              "        6.39706728e-03],\n",
              "       [5.39191211e-02, 5.11502737e-01, 1.80526012e-02, 3.82251443e-01,\n",
              "        3.42740973e-02],\n",
              "       [9.60953655e-01, 7.76227287e-04, 1.51865886e-03, 1.45451134e-02,\n",
              "        2.22063459e-02],\n",
              "       ...,\n",
              "       [1.03875190e-02, 9.85619614e-01, 7.54454210e-04, 2.01267230e-03,\n",
              "        1.22574043e-03],\n",
              "       [6.13500510e-03, 9.86412119e-01, 2.48742369e-03, 4.88446543e-03,\n",
              "        8.09865478e-05],\n",
              "       [9.22965196e-01, 3.08281555e-04, 5.73134271e-03, 2.01404286e-02,\n",
              "        5.08547509e-02]])"
            ]
          },
          "metadata": {
            "tags": []
          },
          "execution_count": 117
        }
      ]
    },
    {
      "cell_type": "code",
      "metadata": {
        "id": "h56F5l2oIwZX",
        "outputId": "0eb31397-4c0e-438f-e264-0de9e6e2bf10",
        "colab": {
          "base_uri": "https://localhost:8080/",
          "height": 415
        }
      },
      "source": [
        "# submission\n",
        "sample_submission[['0', '1', '2', '3', '4']] = pred\n",
        "sample_submission"
      ],
      "execution_count": 118,
      "outputs": [
        {
          "output_type": "execute_result",
          "data": {
            "text/html": [
              "<div>\n",
              "<style scoped>\n",
              "    .dataframe tbody tr th:only-of-type {\n",
              "        vertical-align: middle;\n",
              "    }\n",
              "\n",
              "    .dataframe tbody tr th {\n",
              "        vertical-align: top;\n",
              "    }\n",
              "\n",
              "    .dataframe thead th {\n",
              "        text-align: right;\n",
              "    }\n",
              "</style>\n",
              "<table border=\"1\" class=\"dataframe\">\n",
              "  <thead>\n",
              "    <tr style=\"text-align: right;\">\n",
              "      <th></th>\n",
              "      <th>index</th>\n",
              "      <th>0</th>\n",
              "      <th>1</th>\n",
              "      <th>2</th>\n",
              "      <th>3</th>\n",
              "      <th>4</th>\n",
              "    </tr>\n",
              "  </thead>\n",
              "  <tbody>\n",
              "    <tr>\n",
              "      <th>0</th>\n",
              "      <td>0</td>\n",
              "      <td>0.017507</td>\n",
              "      <td>0.234129</td>\n",
              "      <td>0.174211</td>\n",
              "      <td>0.567756</td>\n",
              "      <td>0.006397</td>\n",
              "    </tr>\n",
              "    <tr>\n",
              "      <th>1</th>\n",
              "      <td>1</td>\n",
              "      <td>0.053919</td>\n",
              "      <td>0.511503</td>\n",
              "      <td>0.018053</td>\n",
              "      <td>0.382251</td>\n",
              "      <td>0.034274</td>\n",
              "    </tr>\n",
              "    <tr>\n",
              "      <th>2</th>\n",
              "      <td>2</td>\n",
              "      <td>0.960954</td>\n",
              "      <td>0.000776</td>\n",
              "      <td>0.001519</td>\n",
              "      <td>0.014545</td>\n",
              "      <td>0.022206</td>\n",
              "    </tr>\n",
              "    <tr>\n",
              "      <th>3</th>\n",
              "      <td>3</td>\n",
              "      <td>0.003937</td>\n",
              "      <td>0.000001</td>\n",
              "      <td>0.987568</td>\n",
              "      <td>0.004023</td>\n",
              "      <td>0.004470</td>\n",
              "    </tr>\n",
              "    <tr>\n",
              "      <th>4</th>\n",
              "      <td>4</td>\n",
              "      <td>0.637587</td>\n",
              "      <td>0.006554</td>\n",
              "      <td>0.134021</td>\n",
              "      <td>0.193042</td>\n",
              "      <td>0.028795</td>\n",
              "    </tr>\n",
              "    <tr>\n",
              "      <th>...</th>\n",
              "      <td>...</td>\n",
              "      <td>...</td>\n",
              "      <td>...</td>\n",
              "      <td>...</td>\n",
              "      <td>...</td>\n",
              "      <td>...</td>\n",
              "    </tr>\n",
              "    <tr>\n",
              "      <th>19612</th>\n",
              "      <td>19612</td>\n",
              "      <td>0.006740</td>\n",
              "      <td>0.990554</td>\n",
              "      <td>0.000144</td>\n",
              "      <td>0.001077</td>\n",
              "      <td>0.001484</td>\n",
              "    </tr>\n",
              "    <tr>\n",
              "      <th>19613</th>\n",
              "      <td>19613</td>\n",
              "      <td>0.608450</td>\n",
              "      <td>0.017057</td>\n",
              "      <td>0.192923</td>\n",
              "      <td>0.024823</td>\n",
              "      <td>0.156746</td>\n",
              "    </tr>\n",
              "    <tr>\n",
              "      <th>19614</th>\n",
              "      <td>19614</td>\n",
              "      <td>0.010388</td>\n",
              "      <td>0.985620</td>\n",
              "      <td>0.000754</td>\n",
              "      <td>0.002013</td>\n",
              "      <td>0.001226</td>\n",
              "    </tr>\n",
              "    <tr>\n",
              "      <th>19615</th>\n",
              "      <td>19615</td>\n",
              "      <td>0.006135</td>\n",
              "      <td>0.986412</td>\n",
              "      <td>0.002487</td>\n",
              "      <td>0.004884</td>\n",
              "      <td>0.000081</td>\n",
              "    </tr>\n",
              "    <tr>\n",
              "      <th>19616</th>\n",
              "      <td>19616</td>\n",
              "      <td>0.922965</td>\n",
              "      <td>0.000308</td>\n",
              "      <td>0.005731</td>\n",
              "      <td>0.020140</td>\n",
              "      <td>0.050855</td>\n",
              "    </tr>\n",
              "  </tbody>\n",
              "</table>\n",
              "<p>19617 rows × 6 columns</p>\n",
              "</div>"
            ],
            "text/plain": [
              "       index         0         1         2         3         4\n",
              "0          0  0.017507  0.234129  0.174211  0.567756  0.006397\n",
              "1          1  0.053919  0.511503  0.018053  0.382251  0.034274\n",
              "2          2  0.960954  0.000776  0.001519  0.014545  0.022206\n",
              "3          3  0.003937  0.000001  0.987568  0.004023  0.004470\n",
              "4          4  0.637587  0.006554  0.134021  0.193042  0.028795\n",
              "...      ...       ...       ...       ...       ...       ...\n",
              "19612  19612  0.006740  0.990554  0.000144  0.001077  0.001484\n",
              "19613  19613  0.608450  0.017057  0.192923  0.024823  0.156746\n",
              "19614  19614  0.010388  0.985620  0.000754  0.002013  0.001226\n",
              "19615  19615  0.006135  0.986412  0.002487  0.004884  0.000081\n",
              "19616  19616  0.922965  0.000308  0.005731  0.020140  0.050855\n",
              "\n",
              "[19617 rows x 6 columns]"
            ]
          },
          "metadata": {
            "tags": []
          },
          "execution_count": 118
        }
      ]
    },
    {
      "cell_type": "code",
      "metadata": {
        "id": "dHe0M5tHIwQ4"
      },
      "source": [
        "sample_submission.to_csv('/content/drive/My Drive/Semi-project_01/submission_naiveBayes02+stopwords.csv', index = False, encoding = 'utf-8')"
      ],
      "execution_count": 119,
      "outputs": []
    }
  ]
}